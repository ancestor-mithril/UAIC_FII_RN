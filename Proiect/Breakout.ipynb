{
 "cells": [
  {
   "cell_type": "markdown",
   "metadata": {},
   "source": [
    "## Imports"
   ]
  },
  {
   "cell_type": "code",
   "execution_count": 1,
   "metadata": {},
   "outputs": [],
   "source": [
    "import numpy as np\n",
    "import time\n",
    "import os\n",
    "import gym\n",
    "import sys\n",
    "from gym import error, spaces\n",
    "from gym import utils\n",
    "from gym.utils import seeding\n",
    "try:\n",
    "    import atari_py\n",
    "except ImportError as e:\n",
    "    raise error.DependencyNotInstalled(\n",
    "            \"{}. (HINT: you can install Atari dependencies by running \"\n",
    "            \"'pip install gym[atari]'.)\".format(e))"
   ]
  },
  {
   "cell_type": "markdown",
   "metadata": {},
   "source": [
    "## Get RAM"
   ]
  },
  {
   "cell_type": "code",
   "execution_count": 3,
   "metadata": {},
   "outputs": [],
   "source": [
    "def to_ram(ale):\n",
    "    ram_size = ale.getRAMSize()\n",
    "    ram = np.zeros((ram_size), dtype=np.uint8)\n",
    "    ale.getRAM(ram)\n",
    "    return ram"
   ]
  },
  {
   "cell_type": "markdown",
   "metadata": {},
   "source": [
    " ### Fragmented game vizualization\n",
    "\n",
    "Agent has 5 lives\n"
   ]
  },
  {
   "cell_type": "code",
   "execution_count": 6,
   "metadata": {},
   "outputs": [
    {
     "name": "stdout",
     "output_type": "stream",
     "text": [
      "0\n",
      "100\n",
      "Finished\n"
     ]
    }
   ],
   "source": [
    "env = gym.make('Breakout-v0')\n",
    "env.reset()\n",
    "for i in range(200):\n",
    "    if i % 100 == 0:\n",
    "        print(i)\n",
    "    env.render()\n",
    "    env.step(env.action_space.sample()) # take a random action\n",
    "    time.sleep(0.1)\n",
    "print(\"Finished\")\n",
    "env.close()"
   ]
  },
  {
   "cell_type": "markdown",
   "metadata": {},
   "source": [
    "### Game info vizualization\n",
    "\n",
    "* info has remaining lives of agent\n",
    "* reward seems to be 0\n",
    "* observation seems to be matrix of 0 or 142\n"
   ]
  },
  {
   "cell_type": "code",
   "execution_count": 2,
   "metadata": {},
   "outputs": [
    {
     "name": "stdout",
     "output_type": "stream",
     "text": [
      "1.0 {'ale.lives': 4}\n",
      "info: {'ale.lives': 4}\n",
      "info: {'ale.lives': 2}\n",
      "1.0 {'ale.lives': 2}\n",
      "info: {'ale.lives': 1}\n",
      "1.0 {'ale.lives': 1}\n",
      "1.0 {'ale.lives': 1}\n",
      "info: {'ale.lives': 1}\n",
      "1.0 {'ale.lives': 1}\n",
      "info: {'ale.lives': 1}\n",
      "observations shape: (210, 160, 3)\n",
      "reward: 0.0\n",
      "info: {'ale.lives': 0}\n",
      "Episode finished after 507 timesteps\n",
      "info: {'ale.lives': 3}\n",
      "1.0 {'ale.lives': 2}\n",
      "info: {'ale.lives': 1}\n",
      "1.0 {'ale.lives': 1}\n",
      "observations shape: (210, 160, 3)\n",
      "reward: 0.0\n",
      "info: {'ale.lives': 0}\n",
      "Episode finished after 257 timesteps\n",
      "1.0 {'ale.lives': 4}\n",
      "info: {'ale.lives': 4}\n",
      "info: {'ale.lives': 1}\n",
      "observations shape: (210, 160, 3)\n",
      "reward: 0.0\n",
      "info: {'ale.lives': 0}\n",
      "Episode finished after 206 timesteps\n"
     ]
    }
   ],
   "source": [
    "env = gym.make('Breakout-v0')\n",
    "print_observation = False\n",
    "for i_episode in range(3):\n",
    "    observation = env.reset()\n",
    "    for t in range(1000):\n",
    "        env.render()\n",
    "        if (t + 1) % 100 == 0:\n",
    "            print(f\"info: {info}\")\n",
    "        action = env.action_space.sample()\n",
    "        observation, reward, done, info = env.step(action)\n",
    "        if reward > 0:\n",
    "            print(reward, info)\n",
    "        time.sleep(0.001)\n",
    "        if done:\n",
    "            print(f\"observations shape: {observation.shape}\")\n",
    "            print(f\"reward: {reward}\")\n",
    "            print(f\"info: {info}\")\n",
    "            print(\"Episode finished after {} timesteps\".format(t+1))\n",
    "            if print_observation:\n",
    "                for x in observation:\n",
    "                    if np.amax(x) > 0:\n",
    "                        print(x)\n",
    "                        break\n",
    "            break\n",
    "env.close()"
   ]
  },
  {
   "cell_type": "markdown",
   "metadata": {},
   "source": [
    "### Env data"
   ]
  },
  {
   "cell_type": "code",
   "execution_count": 7,
   "metadata": {},
   "outputs": [
    {
     "name": "stdout",
     "output_type": "stream",
     "text": [
      "Discrete(4)\n",
      "Box(0, 255, (210, 160, 3), uint8)\n",
      "(210, 160, 3)\n"
     ]
    }
   ],
   "source": [
    "print(env.action_space)\n",
    "print(env.observation_space)\n",
    "print(env.observation_space.shape)\n",
    "# print(env.observation_space.high)\n",
    "# print(env.observation_space.low)"
   ]
  },
  {
   "cell_type": "markdown",
   "metadata": {},
   "source": [
    "### Printing the entire np array"
   ]
  },
  {
   "cell_type": "code",
   "execution_count": 8,
   "metadata": {},
   "outputs": [],
   "source": [
    "from gym import envs\n",
    "# print(envs.registry.all())"
   ]
  },
  {
   "cell_type": "code",
   "execution_count": 6,
   "metadata": {},
   "outputs": [
    {
     "data": {
      "text/plain": [
       "(210, 160, 3)"
      ]
     },
     "execution_count": 6,
     "metadata": {},
     "output_type": "execute_result"
    }
   ],
   "source": [
    "np.set_printoptions(threshold=sys.maxsize) \n",
    "observation = env.reset()\n",
    "for t in range(1):\n",
    "    action = env.action_space.sample()\n",
    "    observation, reward, done, info = env.step(action)\n",
    "observation.shape"
   ]
  },
  {
   "cell_type": "markdown",
   "metadata": {},
   "source": [
    "### Playing more with gym env"
   ]
  },
  {
   "cell_type": "code",
   "execution_count": 19,
   "metadata": {},
   "outputs": [
    {
     "name": "stdout",
     "output_type": "stream",
     "text": [
      "Action Space Discrete(4)\n",
      "State Space Box(0, 255, (210, 160, 3), uint8)\n"
     ]
    }
   ],
   "source": [
    "env = gym.make(\"Breakout-v4\").env\n",
    "env.render()\n",
    "print(f\"Action Space {env.action_space}\")\n",
    "print(f\"State Space {env.observation_space}\")\n",
    "time.sleep(2)\n",
    "env.close()"
   ]
  },
  {
   "cell_type": "code",
   "execution_count": 5,
   "metadata": {},
   "outputs": [
    {
     "name": "stdout",
     "output_type": "stream",
     "text": [
      "env: <TimeLimit<AtariEnv<Breakout-v0>>>\n",
      "env.env: <AtariEnv<Breakout-v0>>\n",
      "0\n",
      "2\n",
      "1\n",
      "2\n",
      "1\n",
      "3\n",
      "0\n",
      "2\n",
      "2\n",
      "1\n",
      "Help on AtariEnv in module gym.envs.atari.atari_env object:\n",
      "\n",
      "class AtariEnv(gym.core.Env, gym.utils.ezpickle.EzPickle)\n",
      " |  AtariEnv(game='pong', mode=None, difficulty=None, obs_type='ram', frameskip=(2, 5), repeat_action_probability=0.0, full_action_space=False)\n",
      " |  \n",
      " |  The main OpenAI Gym class. It encapsulates an environment with\n",
      " |  arbitrary behind-the-scenes dynamics. An environment can be\n",
      " |  partially or fully observed.\n",
      " |  \n",
      " |  The main API methods that users of this class need to know are:\n",
      " |  \n",
      " |      step\n",
      " |      reset\n",
      " |      render\n",
      " |      close\n",
      " |      seed\n",
      " |  \n",
      " |  And set the following attributes:\n",
      " |  \n",
      " |      action_space: The Space object corresponding to valid actions\n",
      " |      observation_space: The Space object corresponding to valid observations\n",
      " |      reward_range: A tuple corresponding to the min and max possible rewards\n",
      " |  \n",
      " |  Note: a default reward range set to [-inf,+inf] already exists. Set it if you want a narrower range.\n",
      " |  \n",
      " |  The methods are accessed publicly as \"step\", \"reset\", etc...\n",
      " |  \n",
      " |  Method resolution order:\n",
      " |      AtariEnv\n",
      " |      gym.core.Env\n",
      " |      gym.utils.ezpickle.EzPickle\n",
      " |      builtins.object\n",
      " |  \n",
      " |  Methods defined here:\n",
      " |  \n",
      " |  __init__(self, game='pong', mode=None, difficulty=None, obs_type='ram', frameskip=(2, 5), repeat_action_probability=0.0, full_action_space=False)\n",
      " |      Frameskip should be either a tuple (indicating a random range to\n",
      " |      choose from, with the top value exclude), or an int.\n",
      " |  \n",
      " |  clone_full_state(self)\n",
      " |      Clone emulator state w/ system state including pseudorandomness.\n",
      " |      Restoring this state will give an identical environment.\n",
      " |  \n",
      " |  clone_state(self)\n",
      " |      Clone emulator state w/o system state. Restoring this state will\n",
      " |      *not* give an identical environment. For complete cloning and restoring\n",
      " |      of the full state, see `{clone,restore}_full_state()`.\n",
      " |  \n",
      " |  close(self)\n",
      " |      Override close in your subclass to perform any necessary cleanup.\n",
      " |      \n",
      " |      Environments will automatically close() themselves when\n",
      " |      garbage collected or when the program exits.\n",
      " |  \n",
      " |  get_action_meanings(self)\n",
      " |  \n",
      " |  get_keys_to_action(self)\n",
      " |  \n",
      " |  render(self, mode='human')\n",
      " |      Renders the environment.\n",
      " |      \n",
      " |      The set of supported modes varies per environment. (And some\n",
      " |      environments do not support rendering at all.) By convention,\n",
      " |      if mode is:\n",
      " |      \n",
      " |      - human: render to the current display or terminal and\n",
      " |        return nothing. Usually for human consumption.\n",
      " |      - rgb_array: Return an numpy.ndarray with shape (x, y, 3),\n",
      " |        representing RGB values for an x-by-y pixel image, suitable\n",
      " |        for turning into a video.\n",
      " |      - ansi: Return a string (str) or StringIO.StringIO containing a\n",
      " |        terminal-style text representation. The text can include newlines\n",
      " |        and ANSI escape sequences (e.g. for colors).\n",
      " |      \n",
      " |      Note:\n",
      " |          Make sure that your class's metadata 'render.modes' key includes\n",
      " |            the list of supported modes. It's recommended to call super()\n",
      " |            in implementations to use the functionality of this method.\n",
      " |      \n",
      " |      Args:\n",
      " |          mode (str): the mode to render with\n",
      " |      \n",
      " |      Example:\n",
      " |      \n",
      " |      class MyEnv(Env):\n",
      " |          metadata = {'render.modes': ['human', 'rgb_array']}\n",
      " |      \n",
      " |          def render(self, mode='human'):\n",
      " |              if mode == 'rgb_array':\n",
      " |                  return np.array(...) # return RGB frame suitable for video\n",
      " |              elif mode == 'human':\n",
      " |                  ... # pop up a window and render\n",
      " |              else:\n",
      " |                  super(MyEnv, self).render(mode=mode) # just raise an exception\n",
      " |  \n",
      " |  reset(self)\n",
      " |      Resets the environment to an initial state and returns an initial\n",
      " |      observation.\n",
      " |      \n",
      " |      Note that this function should not reset the environment's random\n",
      " |      number generator(s); random variables in the environment's state should\n",
      " |      be sampled independently between multiple calls to `reset()`. In other\n",
      " |      words, each call of `reset()` should yield an environment suitable for\n",
      " |      a new episode, independent of previous episodes.\n",
      " |      \n",
      " |      Returns:\n",
      " |          observation (object): the initial observation.\n",
      " |  \n",
      " |  restore_full_state(self, state)\n",
      " |      Restore emulator state w/ system state including pseudorandomness.\n",
      " |  \n",
      " |  restore_state(self, state)\n",
      " |      Restore emulator state w/o system state.\n",
      " |  \n",
      " |  seed(self, seed=None)\n",
      " |      Sets the seed for this env's random number generator(s).\n",
      " |      \n",
      " |      Note:\n",
      " |          Some environments use multiple pseudorandom number generators.\n",
      " |          We want to capture all such seeds used in order to ensure that\n",
      " |          there aren't accidental correlations between multiple generators.\n",
      " |      \n",
      " |      Returns:\n",
      " |          list<bigint>: Returns the list of seeds used in this env's random\n",
      " |            number generators. The first value in the list should be the\n",
      " |            \"main\" seed, or the value which a reproducer should pass to\n",
      " |            'seed'. Often, the main seed equals the provided 'seed', but\n",
      " |            this won't be true if seed=None, for example.\n",
      " |  \n",
      " |  step(self, a)\n",
      " |      Run one timestep of the environment's dynamics. When end of\n",
      " |      episode is reached, you are responsible for calling `reset()`\n",
      " |      to reset this environment's state.\n",
      " |      \n",
      " |      Accepts an action and returns a tuple (observation, reward, done, info).\n",
      " |      \n",
      " |      Args:\n",
      " |          action (object): an action provided by the agent\n",
      " |      \n",
      " |      Returns:\n",
      " |          observation (object): agent's observation of the current environment\n",
      " |          reward (float) : amount of reward returned after previous action\n",
      " |          done (bool): whether the episode has ended, in which case further step() calls will return undefined results\n",
      " |          info (dict): contains auxiliary diagnostic information (helpful for debugging, and sometimes learning)\n",
      " |  \n",
      " |  ----------------------------------------------------------------------\n",
      " |  Data and other attributes defined here:\n",
      " |  \n",
      " |  metadata = {'render.modes': ['human', 'rgb_array']}\n",
      " |  \n",
      " |  ----------------------------------------------------------------------\n",
      " |  Methods inherited from gym.core.Env:\n",
      " |  \n",
      " |  __enter__(self)\n",
      " |      Support with-statement for the environment.\n",
      " |  \n",
      " |  __exit__(self, *args)\n",
      " |      Support with-statement for the environment.\n",
      " |  \n",
      " |  __str__(self)\n",
      " |      Return str(self).\n",
      " |  \n",
      " |  ----------------------------------------------------------------------\n",
      " |  Data descriptors inherited from gym.core.Env:\n",
      " |  \n",
      " |  __dict__\n",
      " |      dictionary for instance variables (if defined)\n",
      " |  \n",
      " |  __weakref__\n",
      " |      list of weak references to the object (if defined)\n",
      " |  \n",
      " |  unwrapped\n",
      " |      Completely unwrap this env.\n",
      " |      \n",
      " |      Returns:\n",
      " |          gym.Env: The base non-wrapped gym.Env instance\n",
      " |  \n",
      " |  ----------------------------------------------------------------------\n",
      " |  Data and other attributes inherited from gym.core.Env:\n",
      " |  \n",
      " |  action_space = None\n",
      " |  \n",
      " |  observation_space = None\n",
      " |  \n",
      " |  reward_range = (-inf, inf)\n",
      " |  \n",
      " |  spec = None\n",
      " |  \n",
      " |  ----------------------------------------------------------------------\n",
      " |  Methods inherited from gym.utils.ezpickle.EzPickle:\n",
      " |  \n",
      " |  __getstate__(self)\n",
      " |  \n",
      " |  __setstate__(self, d)\n",
      "\n",
      "help: None\n"
     ]
    }
   ],
   "source": [
    "env = gym.make(\"Breakout-v0\")\n",
    "print(\"env:\", env)\n",
    "print(\"env.env:\", env.env)\n",
    "\n",
    "\n",
    "observation = env.reset()\n",
    "for t in range(10):\n",
    "    env.render()\n",
    "    action = env.action_space.sample()\n",
    "    print(action)\n",
    "    observation, reward, done, info = env.step(t % 2)\n",
    "    if reward > 0:\n",
    "        print(\"Not negative reward\", reward, info)\n",
    "    time.sleep(1)\n",
    "    if done:\n",
    "        break\n",
    "\n",
    "\n",
    "time.sleep(2)\n",
    "env.close()\n",
    "print(\"help:\", help(env.env))"
   ]
  },
  {
   "cell_type": "code",
   "execution_count": 41,
   "metadata": {},
   "outputs": [],
   "source": []
  }
 ],
 "metadata": {
  "kernelspec": {
   "display_name": "Python 3",
   "language": "python",
   "name": "python3"
  },
  "language_info": {
   "codemirror_mode": {
    "name": "ipython",
    "version": 3
   },
   "file_extension": ".py",
   "mimetype": "text/x-python",
   "name": "python",
   "nbconvert_exporter": "python",
   "pygments_lexer": "ipython3",
   "version": "3.7.9"
  }
 },
 "nbformat": 4,
 "nbformat_minor": 4
}
