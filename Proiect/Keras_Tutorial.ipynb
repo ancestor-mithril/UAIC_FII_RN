{
 "cells": [
  {
   "cell_type": "markdown",
   "metadata": {},
   "source": [
    "**Importam datele din Keras**"
   ]
  },
  {
   "cell_type": "code",
   "execution_count": 1,
   "metadata": {},
   "outputs": [
    {
     "data": {
      "text/plain": [
       "((60000, 28, 28), (60000,))"
      ]
     },
     "execution_count": 1,
     "metadata": {},
     "output_type": "execute_result"
    }
   ],
   "source": [
    "import numpy as np\n",
    "from tensorflow.keras.datasets import mnist\n",
    "\n",
    "\n",
    "(train_images, train_labels), (test_images, test_labels) = mnist.load_data()\n",
    "#print the shapes of the training dataset. Just for checking.\n",
    "train_images.shape, train_labels.shape"
   ]
  },
  {
   "cell_type": "markdown",
   "metadata": {},
   "source": [
    "**Facem reshape la date si le scalam**"
   ]
  },
  {
   "cell_type": "code",
   "execution_count": 2,
   "metadata": {},
   "outputs": [],
   "source": [
    "from tensorflow.keras.utils import to_categorical\n",
    "\n",
    "\n",
    "train_images = train_images.reshape((60000, 28*28))\n",
    "train_images = train_images.astype('float32')/255\n",
    "test_images = test_images.reshape((10000, 28*28))\n",
    "test_images = test_images.astype('float32')/255\n",
    "train_labels = to_categorical(train_labels)\n",
    "test_labels = to_categorical(test_labels)"
   ]
  },
  {
   "cell_type": "markdown",
   "metadata": {},
   "source": [
    "**Definim modelul si il compilam**"
   ]
  },
  {
   "cell_type": "code",
   "execution_count": 3,
   "metadata": {},
   "outputs": [
    {
     "name": "stderr",
     "output_type": "stream",
     "text": [
      "Using TensorFlow backend.\n"
     ]
    }
   ],
   "source": [
    "from keras import models\n",
    "from keras import layers\n",
    "from keras import losses\n",
    "from keras import optimizers\n",
    "from keras import regularizers\n",
    "\n",
    "\n",
    "model = models.Sequential()\n",
    "# Layer 1\n",
    "model.add(layers.Dense(512, \n",
    "                       activation='relu', \n",
    "                       input_shape=(28*28,), \n",
    "                       kernel_regularizer=regularizers.l2(0.001)))\n",
    "model.add(layers.Dropout(0.2))\n",
    "\n",
    "# Layer 2\n",
    "model.add(layers.Dense(100, activation='linear'))\n",
    "model.add(layers.ReLU())\n",
    "\n",
    "# Layer3\n",
    "model.add(layers.Dense(10, activation='softmax'))\n",
    "\n",
    "# Compile the model\n",
    "# network.compile(optimizer='rmsprop', loss='categorical_crossentropy', metrics=['accuracy'])\n",
    "optimizer = optimizers.Adam(lr=0.0001)\n",
    "loss_function = losses.categorical_crossentropy\n",
    "model.compile(optimizer=optimizer, loss=loss_function, metrics=['accuracy'])"
   ]
  },
  {
   "cell_type": "code",
   "execution_count": 4,
   "metadata": {},
   "outputs": [
    {
     "name": "stdout",
     "output_type": "stream",
     "text": [
      "Model: \"sequential_1\"\n",
      "_________________________________________________________________\n",
      "Layer (type)                 Output Shape              Param #   \n",
      "=================================================================\n",
      "dense_1 (Dense)              (None, 512)               401920    \n",
      "_________________________________________________________________\n",
      "dropout_1 (Dropout)          (None, 512)               0         \n",
      "_________________________________________________________________\n",
      "dense_2 (Dense)              (None, 100)               51300     \n",
      "_________________________________________________________________\n",
      "re_lu_1 (ReLU)               (None, 100)               0         \n",
      "_________________________________________________________________\n",
      "dense_3 (Dense)              (None, 10)                1010      \n",
      "=================================================================\n",
      "Total params: 454,230\n",
      "Trainable params: 454,230\n",
      "Non-trainable params: 0\n",
      "_________________________________________________________________\n"
     ]
    }
   ],
   "source": [
    "model.summary()"
   ]
  },
  {
   "cell_type": "markdown",
   "metadata": {},
   "source": [
    "**Antrenam modelul**"
   ]
  },
  {
   "cell_type": "code",
   "execution_count": 5,
   "metadata": {},
   "outputs": [
    {
     "name": "stdout",
     "output_type": "stream",
     "text": [
      "Train on 60000 samples, validate on 10000 samples\n",
      "Epoch 1/10\n",
      "60000/60000 [==============================] - 3s 55us/step - loss: 1.1135 - accuracy: 0.8273 - val_loss: 0.6378 - val_accuracy: 0.9238\n",
      "Epoch 2/10\n",
      "60000/60000 [==============================] - 3s 50us/step - loss: 0.5876 - accuracy: 0.9215 - val_loss: 0.4926 - val_accuracy: 0.9380\n",
      "Epoch 3/10\n",
      "60000/60000 [==============================] - 3s 50us/step - loss: 0.4705 - accuracy: 0.9391 - val_loss: 0.4106 - val_accuracy: 0.9492\n",
      "Epoch 4/10\n",
      "60000/60000 [==============================] - 3s 52us/step - loss: 0.4004 - accuracy: 0.9481 - val_loss: 0.3549 - val_accuracy: 0.9567\n",
      "Epoch 5/10\n",
      "60000/60000 [==============================] - 3s 50us/step - loss: 0.3478 - accuracy: 0.9551 - val_loss: 0.3132 - val_accuracy: 0.9608\n",
      "Epoch 6/10\n",
      "60000/60000 [==============================] - 3s 51us/step - loss: 0.3061 - accuracy: 0.9596 - val_loss: 0.2804 - val_accuracy: 0.9644\n",
      "Epoch 7/10\n",
      "60000/60000 [==============================] - 3s 50us/step - loss: 0.2742 - accuracy: 0.9643 - val_loss: 0.2526 - val_accuracy: 0.9672\n",
      "Epoch 8/10\n",
      "60000/60000 [==============================] - 3s 54us/step - loss: 0.2471 - accuracy: 0.9675 - val_loss: 0.2321 - val_accuracy: 0.9679\n",
      "Epoch 9/10\n",
      "60000/60000 [==============================] - 3s 55us/step - loss: 0.2244 - accuracy: 0.9707 - val_loss: 0.2128 - val_accuracy: 0.9708\n",
      "Epoch 10/10\n",
      "60000/60000 [==============================] - 3s 54us/step - loss: 0.2044 - accuracy: 0.9732 - val_loss: 0.1957 - val_accuracy: 0.9734\n"
     ]
    },
    {
     "data": {
      "text/plain": [
       "<keras.callbacks.callbacks.History at 0x22d00803b08>"
      ]
     },
     "execution_count": 5,
     "metadata": {},
     "output_type": "execute_result"
    }
   ],
   "source": [
    "from keras import callbacks\n",
    "\n",
    "\n",
    "# my_callbacks = [callbacks.ModelCheckpoint(filepath='model.{epoch:02d}-{val_loss:.2f}-{val_accuracy:.2f}.h5', monitor='val_accuracy', save_best_only=True)]\n",
    "\n",
    "model.fit(train_images, train_labels,\n",
    "          validation_data=(test_images, test_labels),\n",
    "          epochs=10, batch_size=128/*, callbacks=my_callbacks*/)"
   ]
  },
  {
   "cell_type": "markdown",
   "metadata": {},
   "source": [
    "**Salvam si incarcam modelul**"
   ]
  },
  {
   "cell_type": "code",
   "execution_count": 6,
   "metadata": {},
   "outputs": [],
   "source": [
    "from keras.models import load_model\n",
    "\n",
    "\n",
    "model.save('mynetwork.h5')\n",
    "trained_model = load_model('mynetwork.h5')\n",
    "test_pred = trained_model.predict(np.array([test_images[0]]))"
   ]
  },
  {
   "cell_type": "code",
   "execution_count": 7,
   "metadata": {},
   "outputs": [
    {
     "name": "stdout",
     "output_type": "stream",
     "text": [
      "Train on 60000 samples, validate on 10000 samples\n",
      "Epoch 1/5\n",
      "60000/60000 [==============================] - 3s 56us/step - loss: 0.1888 - accuracy: 0.9752 - val_loss: 0.1849 - val_accuracy: 0.9734\n",
      "Epoch 2/5\n",
      "60000/60000 [==============================] - 3s 52us/step - loss: 0.1747 - accuracy: 0.9776 - val_loss: 0.1730 - val_accuracy: 0.9753\n",
      "Epoch 3/5\n",
      "60000/60000 [==============================] - 3s 50us/step - loss: 0.1624 - accuracy: 0.9776 - val_loss: 0.1625 - val_accuracy: 0.9767\n",
      "Epoch 4/5\n",
      "60000/60000 [==============================] - 3s 50us/step - loss: 0.1508 - accuracy: 0.9798 - val_loss: 0.1525 - val_accuracy: 0.9775\n",
      "Epoch 5/5\n",
      "60000/60000 [==============================] - 3s 50us/step - loss: 0.1415 - accuracy: 0.9812 - val_loss: 0.1439 - val_accuracy: 0.9784\n"
     ]
    },
    {
     "data": {
      "text/plain": [
       "<keras.callbacks.callbacks.History at 0x22d01323848>"
      ]
     },
     "execution_count": 7,
     "metadata": {},
     "output_type": "execute_result"
    }
   ],
   "source": [
    "trained_model = load_model('mynetwork.h5')\n",
    "trained_model.fit(train_images, train_labels,\n",
    "              validation_data=(test_images, test_labels),\n",
    "                  epochs=5, batch_size=128, callbacks=my_callbacks)"
   ]
  },
  {
   "cell_type": "markdown",
   "metadata": {},
   "source": [
    "**Evaluam modelul**"
   ]
  },
  {
   "cell_type": "code",
   "execution_count": 8,
   "metadata": {},
   "outputs": [
    {
     "name": "stdout",
     "output_type": "stream",
     "text": [
      "10000/10000 [==============================] - 0s 14us/step\n",
      "test loss, test acc: [0.19568800922632218, 0.9733999967575073]\n"
     ]
    }
   ],
   "source": [
    "results = model.evaluate(test_images, test_labels, batch_size=128)\n",
    "print(\"test loss, test acc:\", results)"
   ]
  },
  {
   "cell_type": "markdown",
   "metadata": {},
   "source": [
    "**(Optional) O retea neuronala convolutionala**\n",
    "\n",
    "Utila pentru proiectele unde trebuie sa antrenati pe pixeli."
   ]
  },
  {
   "cell_type": "code",
   "execution_count": 9,
   "metadata": {},
   "outputs": [
    {
     "name": "stdout",
     "output_type": "stream",
     "text": [
      "x_train shape: (60000, 28, 28, 1)\n",
      "60000 train samples\n",
      "10000 test samples\n",
      "Model: \"sequential\"\n",
      "_________________________________________________________________\n",
      "Layer (type)                 Output Shape              Param #   \n",
      "=================================================================\n",
      "conv2d (Conv2D)              (None, 26, 26, 32)        320       \n",
      "_________________________________________________________________\n",
      "max_pooling2d (MaxPooling2D) (None, 13, 13, 32)        0         \n",
      "_________________________________________________________________\n",
      "conv2d_1 (Conv2D)            (None, 11, 11, 64)        18496     \n",
      "_________________________________________________________________\n",
      "max_pooling2d_1 (MaxPooling2 (None, 5, 5, 64)          0         \n",
      "_________________________________________________________________\n",
      "flatten (Flatten)            (None, 1600)              0         \n",
      "_________________________________________________________________\n",
      "dropout (Dropout)            (None, 1600)              0         \n",
      "_________________________________________________________________\n",
      "dense (Dense)                (None, 10)                16010     \n",
      "=================================================================\n",
      "Total params: 34,826\n",
      "Trainable params: 34,826\n",
      "Non-trainable params: 0\n",
      "_________________________________________________________________\n",
      "Train on 54000 samples, validate on 6000 samples\n",
      "Epoch 1/15\n",
      "54000/54000 [==============================] - 14s 261us/sample - loss: 0.3786 - accuracy: 0.8844 - val_loss: 0.0824 - val_accuracy: 0.9787\n",
      "Epoch 2/15\n",
      "54000/54000 [==============================] - 14s 256us/sample - loss: 0.1127 - accuracy: 0.9659 - val_loss: 0.0577 - val_accuracy: 0.9842\n",
      "Epoch 3/15\n",
      "54000/54000 [==============================] - 14s 260us/sample - loss: 0.0858 - accuracy: 0.9733 - val_loss: 0.0478 - val_accuracy: 0.9878\n",
      "Epoch 4/15\n",
      "54000/54000 [==============================] - 13s 249us/sample - loss: 0.0722 - accuracy: 0.9774 - val_loss: 0.0497 - val_accuracy: 0.9855\n",
      "Epoch 5/15\n",
      "54000/54000 [==============================] - 13s 249us/sample - loss: 0.0629 - accuracy: 0.9804 - val_loss: 0.0402 - val_accuracy: 0.9895\n",
      "Epoch 6/15\n",
      "54000/54000 [==============================] - 14s 263us/sample - loss: 0.0556 - accuracy: 0.9828 - val_loss: 0.0398 - val_accuracy: 0.9888\n",
      "Epoch 7/15\n",
      "54000/54000 [==============================] - 14s 261us/sample - loss: 0.0502 - accuracy: 0.9846 - val_loss: 0.0335 - val_accuracy: 0.9913\n",
      "Epoch 8/15\n",
      "54000/54000 [==============================] - 15s 272us/sample - loss: 0.0475 - accuracy: 0.9850 - val_loss: 0.0343 - val_accuracy: 0.9898\n",
      "Epoch 9/15\n",
      "54000/54000 [==============================] - 14s 252us/sample - loss: 0.0437 - accuracy: 0.9863 - val_loss: 0.0345 - val_accuracy: 0.9917\n",
      "Epoch 10/15\n",
      "54000/54000 [==============================] - 14s 255us/sample - loss: 0.0420 - accuracy: 0.9864 - val_loss: 0.0330 - val_accuracy: 0.9917\n",
      "Epoch 11/15\n",
      "54000/54000 [==============================] - 14s 256us/sample - loss: 0.0374 - accuracy: 0.9883 - val_loss: 0.0325 - val_accuracy: 0.9910\n",
      "Epoch 12/15\n",
      "54000/54000 [==============================] - 14s 261us/sample - loss: 0.0361 - accuracy: 0.9884 - val_loss: 0.0338 - val_accuracy: 0.9907\n",
      "Epoch 13/15\n",
      "54000/54000 [==============================] - 15s 269us/sample - loss: 0.0352 - accuracy: 0.9885 - val_loss: 0.0321 - val_accuracy: 0.9918\n",
      "Epoch 14/15\n",
      "54000/54000 [==============================] - 15s 270us/sample - loss: 0.0333 - accuracy: 0.9888 - val_loss: 0.0293 - val_accuracy: 0.9917\n",
      "Epoch 15/15\n",
      "54000/54000 [==============================] - 15s 272us/sample - loss: 0.0314 - accuracy: 0.9903 - val_loss: 0.0337 - val_accuracy: 0.9905\n"
     ]
    },
    {
     "data": {
      "text/plain": [
       "<tensorflow.python.keras.callbacks.History at 0x22d066dddc8>"
      ]
     },
     "execution_count": 9,
     "metadata": {},
     "output_type": "execute_result"
    }
   ],
   "source": [
    "import numpy as np\n",
    "from tensorflow import keras\n",
    "from tensorflow.keras import layers\n",
    "\n",
    "# Model / data parameters\n",
    "num_classes = 10\n",
    "input_shape = (28, 28, 1)\n",
    "\n",
    "# the data, split between train and test sets\n",
    "(x_train, y_train), (x_test, y_test) = keras.datasets.mnist.load_data()\n",
    "\n",
    "# Scale images to the [0, 1] range\n",
    "x_train = x_train.astype(\"float32\") / 255\n",
    "x_test = x_test.astype(\"float32\") / 255\n",
    "# Make sure images have shape (28, 28, 1)\n",
    "x_train = np.expand_dims(x_train, -1)\n",
    "x_test = np.expand_dims(x_test, -1)\n",
    "print(\"x_train shape:\", x_train.shape)\n",
    "print(x_train.shape[0], \"train samples\")\n",
    "print(x_test.shape[0], \"test samples\")\n",
    "\n",
    "\n",
    "# convert class vectors to binary class matrices\n",
    "y_train = keras.utils.to_categorical(y_train, num_classes)\n",
    "y_test = keras.utils.to_categorical(y_test, num_classes)\n",
    "\n",
    "model = keras.Sequential(\n",
    "    [\n",
    "        keras.Input(shape=input_shape),\n",
    "        layers.Conv2D(32, kernel_size=(3, 3), activation=\"relu\"),\n",
    "        layers.MaxPooling2D(pool_size=(2, 2)),\n",
    "        layers.Conv2D(64, kernel_size=(3, 3), activation=\"relu\"),\n",
    "        layers.MaxPooling2D(pool_size=(2, 2)),\n",
    "        layers.Flatten(),\n",
    "        layers.Dropout(0.5),\n",
    "        layers.Dense(num_classes, activation=\"softmax\"),\n",
    "    ]\n",
    ")\n",
    "\n",
    "model.summary()\n",
    "\n",
    "batch_size = 128\n",
    "epochs = 15\n",
    "\n",
    "model.compile(loss=\"categorical_crossentropy\", optimizer=\"adam\", metrics=[\"accuracy\"])\n",
    "\n",
    "model.fit(x_train, y_train, batch_size=batch_size, epochs=epochs, validation_split=0.1)"
   ]
  }
 ],
 "metadata": {
  "kernelspec": {
   "display_name": "Python 3",
   "language": "python",
   "name": "python3"
  },
  "language_info": {
   "codemirror_mode": {
    "name": "ipython",
    "version": 3
   },
   "file_extension": ".py",
   "mimetype": "text/x-python",
   "name": "python",
   "nbconvert_exporter": "python",
   "pygments_lexer": "ipython3",
   "version": "3.8.3"
  }
 },
 "nbformat": 4,
 "nbformat_minor": 4
}
